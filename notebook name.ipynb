{
    "cells": [
        {
            "cell_type": "markdown",
            "metadata": {},
            "source": "<h1> My Jupyter Notebook on IBM Watson Studio </h1>"
        },
        {
            "cell_type": "markdown",
            "metadata": {},
            "source": "<b>Kyle Nathan G. Naranjo </b>\n<br>\nStudent at the University of the Philippines Diliman"
        },
        {
            "cell_type": "markdown",
            "metadata": {},
            "source": "*I am interested in data science because it will leverages data to create meaningful solutions.*"
        },
        {
            "cell_type": "markdown",
            "metadata": {},
            "source": "<h3> The code below adds pi to pi </h3>"
        },
        {
            "cell_type": "code",
            "execution_count": 5,
            "metadata": {},
            "outputs": [
                {
                    "data": {
                        "text/plain": "6.283"
                    },
                    "execution_count": 5,
                    "metadata": {},
                    "output_type": "execute_result"
                }
            ],
            "source": "3.1415 + 3.1415"
        },
        {
            "cell_type": "markdown",
            "metadata": {},
            "source": "| Col 1 | Col 2 | Col 3 |\n| --- | --- | --- |\n| 1 | 2 | 3 |\n\n* one\n* two\n* three\n* ~~ four ~~"
        },
        {
            "cell_type": "code",
            "execution_count": null,
            "metadata": {},
            "outputs": [],
            "source": ""
        }
    ],
    "metadata": {
        "kernelspec": {
            "display_name": "Python 3.9",
            "language": "python",
            "name": "python3"
        },
        "language_info": {
            "codemirror_mode": {
                "name": "ipython",
                "version": 3
            },
            "file_extension": ".py",
            "mimetype": "text/x-python",
            "name": "python",
            "nbconvert_exporter": "python",
            "pygments_lexer": "ipython3",
            "version": "3.9.12"
        }
    },
    "nbformat": 4,
    "nbformat_minor": 1
}